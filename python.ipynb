{
 "cells": [
  {
   "cell_type": "code",
   "execution_count": 1,
   "id": "22cea70e",
   "metadata": {},
   "outputs": [
    {
     "name": "stdout",
     "output_type": "stream",
     "text": [
      "ADIOS MI GENTE!\n"
     ]
    }
   ],
   "source": [
    "print(\"ADIOS MI GENTE!\")"
   ]
  },
  {
   "cell_type": "markdown",
   "id": "929e6002",
   "metadata": {},
   "source": []
  },
  {
   "cell_type": "code",
   "execution_count": 7,
   "id": "b72c2238",
   "metadata": {},
   "outputs": [],
   "source": [
    "# variables\n",
    "name = \"felipe\"\n",
    "age = 27"
   ]
  },
  {
   "cell_type": "code",
   "execution_count": 8,
   "id": "28f935ad",
   "metadata": {},
   "outputs": [
    {
     "data": {
      "text/plain": [
       "'felipe'"
      ]
     },
     "execution_count": 8,
     "metadata": {},
     "output_type": "execute_result"
    }
   ],
   "source": [
    "name"
   ]
  },
  {
   "cell_type": "code",
   "execution_count": null,
   "id": "2e6ac63d",
   "metadata": {},
   "outputs": [],
   "source": [
    "last_name = \"martin\""
   ]
  },
  {
   "cell_type": "code",
   "execution_count": 10,
   "id": "fff73914",
   "metadata": {},
   "outputs": [
    {
     "data": {
      "text/plain": [
       "'felipe'"
      ]
     },
     "execution_count": 10,
     "metadata": {},
     "output_type": "execute_result"
    }
   ],
   "source": [
    "name"
   ]
  },
  {
   "cell_type": "code",
   "execution_count": 11,
   "id": "6ae37738",
   "metadata": {},
   "outputs": [],
   "source": [
    "name = \"amarillo\""
   ]
  },
  {
   "cell_type": "code",
   "execution_count": 12,
   "id": "8d9d71dd",
   "metadata": {},
   "outputs": [
    {
     "data": {
      "text/plain": [
       "'amarillo'"
      ]
     },
     "execution_count": 12,
     "metadata": {},
     "output_type": "execute_result"
    }
   ],
   "source": [
    "name"
   ]
  },
  {
   "cell_type": "code",
   "execution_count": 22,
   "id": "5500e048",
   "metadata": {},
   "outputs": [],
   "source": [
    "#operador matematico\n",
    "number1 = 10\n",
    "number2 = 5\n",
    "\n",
    "result_sum = number1 + number2\n",
    "result_subtraccion = number1 - number2\n",
    "result_multiplication = number1 * number2\n",
    "result_division = number1 / number2"
   ]
  },
  {
   "cell_type": "code",
   "execution_count": 14,
   "id": "64e12c43",
   "metadata": {},
   "outputs": [
    {
     "name": "stdout",
     "output_type": "stream",
     "text": [
      "Resultado de la suma: 15\n"
     ]
    }
   ],
   "source": [
    "print(f\"Resultado de la suma: {result_sum}\")"
   ]
  },
  {
   "cell_type": "code",
   "execution_count": 23,
   "id": "7871662c",
   "metadata": {},
   "outputs": [
    {
     "name": "stdout",
     "output_type": "stream",
     "text": [
      "Resultado de la resta: 5\n",
      "Resultado de la multiplicación: 50\n",
      "Resultado de la división: 2.0\n"
     ]
    }
   ],
   "source": [
    "print(f\"Resultado de la resta: {result_subtraccion}\")\n",
    "print(f\"Resultado de la multiplicación: {result_multiplication}\")\n",
    "print(f\"Resultado de la división: {result_division}\")\n"
   ]
  }
 ],
 "metadata": {
  "kernelspec": {
   "display_name": ".venv",
   "language": "python",
   "name": "python3"
  },
  "language_info": {
   "codemirror_mode": {
    "name": "ipython",
    "version": 3
   },
   "file_extension": ".py",
   "mimetype": "text/x-python",
   "name": "python",
   "nbconvert_exporter": "python",
   "pygments_lexer": "ipython3",
   "version": "3.13.6"
  }
 },
 "nbformat": 4,
 "nbformat_minor": 5
}
