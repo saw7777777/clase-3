{
 "cells": [
  {
   "cell_type": "code",
   "execution_count": 1,
   "id": "22cea70e",
   "metadata": {},
   "outputs": [
    {
     "name": "stdout",
     "output_type": "stream",
     "text": [
      "ADIOS MI GENTE!\n"
     ]
    }
   ],
   "source": [
    "print(\"ADIOS MI GENTE!\")"
   ]
  },
  {
   "cell_type": "markdown",
   "id": "929e6002",
   "metadata": {},
   "source": []
  },
  {
   "cell_type": "code",
   "execution_count": 7,
   "id": "b72c2238",
   "metadata": {},
   "outputs": [],
   "source": [
    "# variables\n",
    "name = \"felipe\"\n",
    "age = 27"
   ]
  },
  {
   "cell_type": "code",
   "execution_count": 8,
   "id": "28f935ad",
   "metadata": {},
   "outputs": [
    {
     "data": {
      "text/plain": [
       "'felipe'"
      ]
     },
     "execution_count": 8,
     "metadata": {},
     "output_type": "execute_result"
    }
   ],
   "source": [
    "name"
   ]
  },
  {
   "cell_type": "code",
   "execution_count": null,
   "id": "2e6ac63d",
   "metadata": {},
   "outputs": [],
   "source": [
    "last_name = \"martin\""
   ]
  },
  {
   "cell_type": "code",
   "execution_count": 10,
   "id": "fff73914",
   "metadata": {},
   "outputs": [
    {
     "data": {
      "text/plain": [
       "'felipe'"
      ]
     },
     "execution_count": 10,
     "metadata": {},
     "output_type": "execute_result"
    }
   ],
   "source": [
    "name"
   ]
  },
  {
   "cell_type": "code",
   "execution_count": 11,
   "id": "6ae37738",
   "metadata": {},
   "outputs": [],
   "source": [
    "name = \"amarillo\""
   ]
  },
  {
   "cell_type": "code",
   "execution_count": 12,
   "id": "8d9d71dd",
   "metadata": {},
   "outputs": [
    {
     "data": {
      "text/plain": [
       "'amarillo'"
      ]
     },
     "execution_count": 12,
     "metadata": {},
     "output_type": "execute_result"
    }
   ],
   "source": [
    "name"
   ]
  },
  {
   "cell_type": "code",
   "execution_count": 22,
   "id": "5500e048",
   "metadata": {},
   "outputs": [],
   "source": [
    "#operador matematico\n",
    "number1 = 10\n",
    "number2 = 5\n",
    "\n",
    "result_sum = number1 + number2\n",
    "result_subtraccion = number1 - number2\n",
    "result_multiplication = number1 * number2\n",
    "result_division = number1 / number2"
   ]
  },
  {
   "cell_type": "code",
   "execution_count": 14,
   "id": "64e12c43",
   "metadata": {},
   "outputs": [
    {
     "name": "stdout",
     "output_type": "stream",
     "text": [
      "Resultado de la suma: 15\n"
     ]
    }
   ],
   "source": [
    "print(f\"Resultado de la suma: {result_sum}\")"
   ]
  },
  {
   "cell_type": "code",
   "execution_count": 23,
   "id": "7871662c",
   "metadata": {},
   "outputs": [
    {
     "name": "stdout",
     "output_type": "stream",
     "text": [
      "Resultado de la resta: 5\n",
      "Resultado de la multiplicación: 50\n",
      "Resultado de la división: 2.0\n"
     ]
    }
   ],
   "source": [
    "print(f\"Resultado de la resta: {result_subtraccion}\")\n",
    "print(f\"Resultado de la multiplicación: {result_multiplication}\")\n",
    "print(f\"Resultado de la división: {result_division}\")\n"
   ]
  },
  {
   "cell_type": "code",
   "execution_count": 2,
   "id": "9d5e10d7",
   "metadata": {},
   "outputs": [
    {
     "name": "stdout",
     "output_type": "stream",
     "text": [
      "Hoy es lunes\n"
     ]
    }
   ],
   "source": [
    "day = input(\"Ingrese el día de la semana: \")\n",
    "if day==\"lunes\":\n",
    "    print(\"Hoy es lunes\")\n",
    "else:\n",
    "    print(\"Hoy no es lunes\")"
   ]
  },
  {
   "cell_type": "code",
   "execution_count": 5,
   "id": "a507a9e8",
   "metadata": {},
   "outputs": [
    {
     "name": "stdout",
     "output_type": "stream",
     "text": [
      "Hoy es sabado\n"
     ]
    }
   ],
   "source": [
    "# condicionales encadenados para el fin de semana\n",
    "day = input(\"Ingrese el día de la semana: \")\n",
    "if day==\"sabado\":\n",
    "    print(\"Hoy es sabado\")\n",
    "elif day==\"domingo\":\n",
    "    print(\"Hoy es domingo\")\n",
    "else:\n",
    "    print(\"Hoy no es sabado ni domingo\")"
   ]
  },
  {
   "cell_type": "code",
   "execution_count": 8,
   "id": "93f3a219",
   "metadata": {},
   "outputs": [
    {
     "name": "stdout",
     "output_type": "stream",
     "text": [
      "TENGO QUE IR A CLASES\n"
     ]
    }
   ],
   "source": [
    "# condicionales anidados\n",
    "day = input(\"Ingrese el día de la semana: \")\n",
    "hora = input(\"ingrese la hora (formato HH:MM): \")\n",
    "\n",
    "if day == \"sabado\":\n",
    "    if hora == \"03:00\":\n",
    "        print(\"TENGO QUE IR A CLASES\")\n",
    "    else:\n",
    "        print(\"no tengo clases a esta hora\")\n",
    "else:\n",
    "    print(\"no tengo clases hoy\")"
   ]
  },
  {
   "cell_type": "code",
   "execution_count": null,
   "id": "7ef3ce2a",
   "metadata": {},
   "outputs": [],
   "source": [
    "#operadores logicos"
   ]
  },
  {
   "cell_type": "code",
   "execution_count": null,
   "id": "6b81315e",
   "metadata": {},
   "outputs": [],
   "source": []
  },
  {
   "cell_type": "code",
   "execution_count": 13,
   "id": "ca8a03e4",
   "metadata": {},
   "outputs": [
    {
     "name": "stdout",
     "output_type": "stream",
     "text": [
      "TENGO QUE IR A CLASES\n"
     ]
    }
   ],
   "source": [
    "# condicionales anidados\n",
    "day = input(\"Ingrese el día de la semana: \")\n",
    "hora = input(\"ingrese la hora (formato HH:MM): \")\n",
    "\n",
    "if (day == \"sabado\") and (hora == \"03:00\"):\n",
    "    print(\"TENGO QUE IR A CLASES\")\n",
    "else:\n",
    "    print(\"ya no tengo clases\")"
   ]
  },
  {
   "cell_type": "code",
   "execution_count": 34,
   "id": "e1c6a67b",
   "metadata": {},
   "outputs": [],
   "source": [
    "#listas\n",
    "names = [\"jose\", \"maria\", \"pedro\"]\n",
    "ages = [25, 30, 22]\n",
    "peso = [7.52, 60, 80]"
   ]
  },
  {
   "cell_type": "code",
   "execution_count": null,
   "id": "849efa3b",
   "metadata": {},
   "outputs": [],
   "source": [
    "#           01223456\n",
    "#         ...-4-3-2-1\n",
    "last_name = \"amarillo\""
   ]
  },
  {
   "cell_type": "code",
   "execution_count": 23,
   "id": "a961d099",
   "metadata": {},
   "outputs": [
    {
     "data": {
      "text/plain": [
       "'amarillo'"
      ]
     },
     "execution_count": 23,
     "metadata": {},
     "output_type": "execute_result"
    }
   ],
   "source": [
    "last_name.lower()"
   ]
  },
  {
   "cell_type": "code",
   "execution_count": 28,
   "id": "bf0bef30",
   "metadata": {},
   "outputs": [
    {
     "data": {
      "text/plain": [
       "['jose', 'maria']"
      ]
     },
     "execution_count": 28,
     "metadata": {},
     "output_type": "execute_result"
    }
   ],
   "source": [
    "name[0:2]"
   ]
  },
  {
   "cell_type": "code",
   "execution_count": 29,
   "id": "edf7552f",
   "metadata": {},
   "outputs": [
    {
     "data": {
      "text/plain": [
       "'a'"
      ]
     },
     "execution_count": 29,
     "metadata": {},
     "output_type": "execute_result"
    }
   ],
   "source": [
    "last_name[2]"
   ]
  },
  {
   "cell_type": "code",
   "execution_count": 30,
   "id": "c1482ad1",
   "metadata": {},
   "outputs": [
    {
     "data": {
      "text/plain": [
       "'ama'"
      ]
     },
     "execution_count": 30,
     "metadata": {},
     "output_type": "execute_result"
    }
   ],
   "source": [
    "last_name[0:3]"
   ]
  },
  {
   "cell_type": "code",
   "execution_count": 31,
   "id": "4ddcd048",
   "metadata": {},
   "outputs": [
    {
     "data": {
      "text/plain": [
       "'a'"
      ]
     },
     "execution_count": 31,
     "metadata": {},
     "output_type": "execute_result"
    }
   ],
   "source": [
    "last_name[0]    "
   ]
  },
  {
   "cell_type": "code",
   "execution_count": 32,
   "id": "d415d26e",
   "metadata": {},
   "outputs": [
    {
     "data": {
      "text/plain": [
       "'o'"
      ]
     },
     "execution_count": 32,
     "metadata": {},
     "output_type": "execute_result"
    }
   ],
   "source": [
    "last_name[-1]"
   ]
  },
  {
   "cell_type": "code",
   "execution_count": 35,
   "id": "dd937232",
   "metadata": {},
   "outputs": [
    {
     "data": {
      "text/plain": [
       "'jose'"
      ]
     },
     "execution_count": 35,
     "metadata": {},
     "output_type": "execute_result"
    }
   ],
   "source": [
    "names[0]"
   ]
  },
  {
   "cell_type": "code",
   "execution_count": 39,
   "id": "56135ba7",
   "metadata": {},
   "outputs": [
    {
     "data": {
      "text/plain": [
       "['jose', 'maria', 'pedro']"
      ]
     },
     "execution_count": 39,
     "metadata": {},
     "output_type": "execute_result"
    }
   ],
   "source": [
    "names[0:3]"
   ]
  },
  {
   "cell_type": "code",
   "execution_count": 40,
   "id": "7c4b7fb9",
   "metadata": {},
   "outputs": [],
   "source": [
    "names.append(\"luis\")"
   ]
  },
  {
   "cell_type": "code",
   "execution_count": 41,
   "id": "ecc4c8b7",
   "metadata": {},
   "outputs": [
    {
     "data": {
      "text/plain": [
       "['jose', 'maria', 'pedro', 'luis']"
      ]
     },
     "execution_count": 41,
     "metadata": {},
     "output_type": "execute_result"
    }
   ],
   "source": [
    "names"
   ]
  },
  {
   "cell_type": "code",
   "execution_count": null,
   "id": "aa4c9b0e",
   "metadata": {},
   "outputs": [],
   "source": [
    "#tuplas\n"
   ]
  },
  {
   "cell_type": "code",
   "execution_count": 42,
   "id": "ff414e09",
   "metadata": {},
   "outputs": [
    {
     "data": {
      "text/plain": [
       "4"
      ]
     },
     "execution_count": 42,
     "metadata": {},
     "output_type": "execute_result"
    }
   ],
   "source": [
    "len(names)"
   ]
  },
  {
   "cell_type": "code",
   "execution_count": 43,
   "id": "49a23352",
   "metadata": {},
   "outputs": [],
   "source": [
    "names.insert(1, \"ruperto\")"
   ]
  },
  {
   "cell_type": "code",
   "execution_count": 44,
   "id": "44b9a7a0",
   "metadata": {},
   "outputs": [],
   "source": [
    "#cambia el nombre de la posicion 1 por marta\n",
    "names[1] = \"marta\""
   ]
  },
  {
   "cell_type": "code",
   "execution_count": 45,
   "id": "016cebea",
   "metadata": {},
   "outputs": [
    {
     "data": {
      "text/plain": [
       "['jose', 'marta', 'maria', 'pedro', 'luis']"
      ]
     },
     "execution_count": 45,
     "metadata": {},
     "output_type": "execute_result"
    }
   ],
   "source": [
    "names"
   ]
  },
  {
   "cell_type": "code",
   "execution_count": 46,
   "id": "e0066549",
   "metadata": {},
   "outputs": [],
   "source": [
    "#tuplas de nombres\n",
    "nombres = (\"jose\",\n",
    "        \"marta\",\n",
    "        \"pedro\")"
   ]
  },
  {
   "cell_type": "code",
   "execution_count": 48,
   "id": "b52ba499",
   "metadata": {},
   "outputs": [],
   "source": [
    "#tuplas con numeros y caracteres\n",
    "tuple_2 =(20, \"pedro\", 7.5)"
   ]
  },
  {
   "cell_type": "code",
   "execution_count": 50,
   "id": "546c4372",
   "metadata": {},
   "outputs": [
    {
     "data": {
      "text/plain": [
       "'pedro'"
      ]
     },
     "execution_count": 50,
     "metadata": {},
     "output_type": "execute_result"
    }
   ],
   "source": [
    "tuple_2[1]"
   ]
  },
  {
   "cell_type": "code",
   "execution_count": 60,
   "id": "41b192e8",
   "metadata": {},
   "outputs": [],
   "source": [
    "#diccionarios\n",
    "dict1 = {\n",
    "    \"nombre\": \"jose\",\n",
    "    \"edad\": 20,\n",
    "    \"peso\": 90.89,\n",
    "    \"comidas\": [\"arepa\", \"empanada\", \"parrillada\"],\n",
    "    \"claves\": {\n",
    "                \"clave\": \"12345\",\n",
    "                \"netflix\":\"clave\",\n",
    "    }}"
   ]
  },
  {
   "cell_type": "code",
   "execution_count": null,
   "id": "5548311d",
   "metadata": {},
   "outputs": [],
   "source": []
  }
 ],
 "metadata": {
  "kernelspec": {
   "display_name": ".venv",
   "language": "python",
   "name": "python3"
  },
  "language_info": {
   "codemirror_mode": {
    "name": "ipython",
    "version": 3
   },
   "file_extension": ".py",
   "mimetype": "text/x-python",
   "name": "python",
   "nbconvert_exporter": "python",
   "pygments_lexer": "ipython3",
   "version": "3.13.7"
  }
 },
 "nbformat": 4,
 "nbformat_minor": 5
}
