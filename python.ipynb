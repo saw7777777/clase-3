{
 "cells": [
  {
   "cell_type": "code",
   "execution_count": null,
   "id": "22cea70e",
   "metadata": {},
   "outputs": [],
   "source": [
    "print(\"ADIOS MI GENTE!\")"
   ]
  },
  {
   "cell_type": "markdown",
   "id": "929e6002",
   "metadata": {},
   "source": []
  },
  {
   "cell_type": "code",
   "execution_count": null,
   "id": "b72c2238",
   "metadata": {},
   "outputs": [],
   "source": [
    "# variables\n",
    "name = \"felipe\"\n",
    "age = 27"
   ]
  },
  {
   "cell_type": "code",
   "execution_count": null,
   "id": "28f935ad",
   "metadata": {},
   "outputs": [],
   "source": [
    "name"
   ]
  },
  {
   "cell_type": "code",
   "execution_count": null,
   "id": "2e6ac63d",
   "metadata": {},
   "outputs": [],
   "source": [
    "last_name = \"martin\""
   ]
  },
  {
   "cell_type": "code",
   "execution_count": null,
   "id": "fff73914",
   "metadata": {},
   "outputs": [],
   "source": [
    "name"
   ]
  },
  {
   "cell_type": "code",
   "execution_count": null,
   "id": "6ae37738",
   "metadata": {},
   "outputs": [],
   "source": [
    "name = \"amarillo\""
   ]
  },
  {
   "cell_type": "code",
   "execution_count": null,
   "id": "8d9d71dd",
   "metadata": {},
   "outputs": [],
   "source": [
    "name"
   ]
  },
  {
   "cell_type": "code",
   "execution_count": null,
   "id": "5500e048",
   "metadata": {},
   "outputs": [],
   "source": [
    "#operador matematico\n",
    "number1 = 10\n",
    "number2 = 5\n",
    "\n",
    "result_sum = number1 + number2\n",
    "result_subtraccion = number1 - number2\n",
    "result_multiplication = number1 * number2\n",
    "result_division = number1 / number2"
   ]
  },
  {
   "cell_type": "code",
   "execution_count": null,
   "id": "64e12c43",
   "metadata": {},
   "outputs": [],
   "source": [
    "print(f\"Resultado de la suma: {result_sum}\")"
   ]
  },
  {
   "cell_type": "code",
   "execution_count": null,
   "id": "7871662c",
   "metadata": {},
   "outputs": [],
   "source": [
    "print(f\"Resultado de la resta: {result_subtraccion}\")\n",
    "print(f\"Resultado de la multiplicación: {result_multiplication}\")\n",
    "print(f\"Resultado de la división: {result_division}\")\n"
   ]
  },
  {
   "cell_type": "code",
   "execution_count": null,
   "id": "9d5e10d7",
   "metadata": {},
   "outputs": [],
   "source": [
    "day = input(\"Ingrese el día de la semana: \")\n",
    "if day==\"lunes\":\n",
    "    print(\"Hoy es lunes\")\n",
    "else:\n",
    "    print(\"Hoy no es lunes\")"
   ]
  },
  {
   "cell_type": "code",
   "execution_count": null,
   "id": "a507a9e8",
   "metadata": {},
   "outputs": [],
   "source": [
    "# condicionales encadenados para el fin de semana\n",
    "day = input(\"Ingrese el día de la semana: \")\n",
    "if day==\"sabado\":\n",
    "    print(\"Hoy es sabado\")\n",
    "elif day==\"domingo\":\n",
    "    print(\"Hoy es domingo\")\n",
    "else:\n",
    "    print(\"Hoy no es sabado ni domingo\")"
   ]
  },
  {
   "cell_type": "code",
   "execution_count": null,
   "id": "93f3a219",
   "metadata": {},
   "outputs": [],
   "source": [
    "# condicionales anidados\n",
    "day = input(\"Ingrese el día de la semana: \")\n",
    "hora = input(\"ingrese la hora (formato HH:MM): \")\n",
    "\n",
    "if day == \"sabado\":\n",
    "    if hora == \"03:00\":\n",
    "        print(\"TENGO QUE IR A CLASES\")\n",
    "    else:\n",
    "        print(\"no tengo clases a esta hora\")\n",
    "else:\n",
    "    print(\"no tengo clases hoy\")"
   ]
  },
  {
   "cell_type": "code",
   "execution_count": null,
   "id": "7ef3ce2a",
   "metadata": {},
   "outputs": [],
   "source": [
    "#operadores logicos"
   ]
  },
  {
   "cell_type": "code",
   "execution_count": null,
   "id": "6b81315e",
   "metadata": {},
   "outputs": [],
   "source": []
  },
  {
   "cell_type": "code",
   "execution_count": null,
   "id": "ca8a03e4",
   "metadata": {},
   "outputs": [],
   "source": [
    "# condicionales anidados\n",
    "day = input(\"Ingrese el día de la semana: \")\n",
    "hora = input(\"ingrese la hora (formato HH:MM): \")\n",
    "\n",
    "if (day == \"sabado\") and (hora == \"03:00\"):\n",
    "    print(\"TENGO QUE IR A CLASES\")\n",
    "else:\n",
    "    print(\"ya no tengo clases\")"
   ]
  },
  {
   "cell_type": "code",
   "execution_count": null,
   "id": "e1c6a67b",
   "metadata": {},
   "outputs": [],
   "source": [
    "#listas\n",
    "names = [\"jose\", \"maria\", \"pedro\"]\n",
    "ages = [25, 30, 22]\n",
    "peso = [7.52, 60, 80]"
   ]
  },
  {
   "cell_type": "code",
   "execution_count": null,
   "id": "849efa3b",
   "metadata": {},
   "outputs": [],
   "source": [
    "#           01223456\n",
    "#         ...-4-3-2-1\n",
    "last_name = \"amarillo\""
   ]
  },
  {
   "cell_type": "code",
   "execution_count": null,
   "id": "a961d099",
   "metadata": {},
   "outputs": [],
   "source": [
    "last_name.lower()"
   ]
  },
  {
   "cell_type": "code",
   "execution_count": null,
   "id": "bf0bef30",
   "metadata": {},
   "outputs": [],
   "source": [
    "name[0:2]"
   ]
  },
  {
   "cell_type": "code",
   "execution_count": null,
   "id": "edf7552f",
   "metadata": {},
   "outputs": [],
   "source": [
    "last_name[2]"
   ]
  },
  {
   "cell_type": "code",
   "execution_count": null,
   "id": "c1482ad1",
   "metadata": {},
   "outputs": [],
   "source": [
    "last_name[0:3]"
   ]
  },
  {
   "cell_type": "code",
   "execution_count": null,
   "id": "4ddcd048",
   "metadata": {},
   "outputs": [],
   "source": [
    "last_name[0]    "
   ]
  },
  {
   "cell_type": "code",
   "execution_count": null,
   "id": "d415d26e",
   "metadata": {},
   "outputs": [],
   "source": [
    "last_name[-1]"
   ]
  },
  {
   "cell_type": "code",
   "execution_count": null,
   "id": "dd937232",
   "metadata": {},
   "outputs": [],
   "source": [
    "names[0]"
   ]
  },
  {
   "cell_type": "code",
   "execution_count": null,
   "id": "56135ba7",
   "metadata": {},
   "outputs": [],
   "source": [
    "names[0:3]"
   ]
  },
  {
   "cell_type": "code",
   "execution_count": null,
   "id": "7c4b7fb9",
   "metadata": {},
   "outputs": [],
   "source": [
    "names.append(\"luis\")"
   ]
  },
  {
   "cell_type": "code",
   "execution_count": null,
   "id": "ecc4c8b7",
   "metadata": {},
   "outputs": [],
   "source": [
    "names"
   ]
  },
  {
   "cell_type": "code",
   "execution_count": null,
   "id": "aa4c9b0e",
   "metadata": {},
   "outputs": [],
   "source": [
    "#tuplas\n"
   ]
  },
  {
   "cell_type": "code",
   "execution_count": null,
   "id": "ff414e09",
   "metadata": {},
   "outputs": [],
   "source": [
    "len(names)"
   ]
  },
  {
   "cell_type": "code",
   "execution_count": null,
   "id": "49a23352",
   "metadata": {},
   "outputs": [],
   "source": [
    "names.insert(1, \"ruperto\")"
   ]
  },
  {
   "cell_type": "code",
   "execution_count": null,
   "id": "44b9a7a0",
   "metadata": {},
   "outputs": [],
   "source": [
    "#cambia el nombre de la posicion 1 por marta\n",
    "names[1] = \"marta\""
   ]
  },
  {
   "cell_type": "code",
   "execution_count": null,
   "id": "016cebea",
   "metadata": {},
   "outputs": [],
   "source": [
    "names"
   ]
  },
  {
   "cell_type": "code",
   "execution_count": null,
   "id": "e0066549",
   "metadata": {},
   "outputs": [],
   "source": [
    "#tuplas de nombres\n",
    "nombres = (\"jose\",\n",
    "        \"marta\",\n",
    "        \"pedro\")"
   ]
  },
  {
   "cell_type": "code",
   "execution_count": null,
   "id": "b52ba499",
   "metadata": {},
   "outputs": [],
   "source": [
    "#tuplas con numeros y caracteres\n",
    "tuple_2 =(20, \"pedro\", 7.5)"
   ]
  },
  {
   "cell_type": "code",
   "execution_count": null,
   "id": "546c4372",
   "metadata": {},
   "outputs": [],
   "source": [
    "tuple_2[1]"
   ]
  },
  {
   "cell_type": "code",
   "execution_count": 63,
   "id": "41b192e8",
   "metadata": {},
   "outputs": [],
   "source": [
    "#diccionarios\n",
    "dict1 = {\n",
    "    \"nombre\": \"jose\",\n",
    "    \"edad\": 20,\n",
    "    \"peso\": 90.89,\n",
    "    \"comidas\": [\"arepa\", \"empanada\", \"parrillada\"],\n",
    "    \"claves\": {\n",
    "                \"clave\": \"12345\",\n",
    "                \"netflix\":\"clave\",\n",
    "    }}"
   ]
  }
 ],
 "metadata": {
  "kernelspec": {
   "display_name": ".venv",
   "language": "python",
   "name": "python3"
  },
  "language_info": {
   "codemirror_mode": {
    "name": "ipython",
    "version": 3
   },
   "file_extension": ".py",
   "mimetype": "text/x-python",
   "name": "python",
   "nbconvert_exporter": "python",
   "pygments_lexer": "ipython3",
   "version": "3.13.7"
  }
 },
 "nbformat": 4,
 "nbformat_minor": 5
}
